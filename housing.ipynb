{
 "cells": [
  {
   "cell_type": "markdown",
   "metadata": {},
   "source": [
    "### Problem Statement 10"
   ]
  },
  {
   "cell_type": "code",
   "execution_count": 1,
   "metadata": {},
   "outputs": [],
   "source": [
    "import pandas as pd"
   ]
  },
  {
   "cell_type": "code",
   "execution_count": 2,
   "metadata": {},
   "outputs": [],
   "source": [
    "# Load hospital data\n",
    "hospital_data = pd.read_csv('hospitals.csv')\n",
    "\n",
    "# Load metadata for acronyms\n",
    "metadata = pd.read_csv('metadata.csv')"
   ]
  },
  {
   "cell_type": "code",
   "execution_count": 6,
   "metadata": {},
   "outputs": [],
   "source": [
    "# Map acronyms to full names\n",
    "acronym_mapping = {\n",
    "    'PHCs': 'Number of Primary Health Centers',\n",
    "    'CHCs': 'Community Health Centers',\n",
    "    'SDHs': 'Sub-District/Divisional Hospitals',\n",
    "    'DHs': 'District Hospitals'\n",
    "}"
   ]
  },
  {
   "cell_type": "code",
   "execution_count": 7,
   "metadata": {},
   "outputs": [],
   "source": [
    "# Rename the headers in hospital data\n",
    "hospital_data.rename(columns=acronym_mapping, inplace=True)"
   ]
  },
  {
   "cell_type": "code",
   "execution_count": 8,
   "metadata": {},
   "outputs": [],
   "source": [
    "# Rename the first cell in the header to 'State/UT'\n",
    "hospital_data.columns.values[0] = 'State/UT'"
   ]
  },
  {
   "cell_type": "code",
   "execution_count": 9,
   "metadata": {},
   "outputs": [],
   "source": [
    "# Save the modified data to a new CSV file\n",
    "hospital_data.to_csv('hospitals_modified.csv', index=False)"
   ]
  },
  {
   "cell_type": "markdown",
   "metadata": {},
   "source": [
    "### Problem Statement 11"
   ]
  },
  {
   "cell_type": "code",
   "execution_count": null,
   "metadata": {},
   "outputs": [],
   "source": [
    "def clean_state_ut_namesinput_file,_file):\n",
    " # Define a mapping of common variations of State/UT names to their standardized versions\n",
    "    state_ut_map = {\n",
    "        \"Andhra Pradesh (New)\": \"Andhra Pradesh\",\n",
    "        \"Andhra Pradesh & Telangana\": \"Andhra Pradesh\",\n",
    "        \"Dadra & Nagar Haveli and Daman & Diu\": \"Dadra and Nagar Haveli and Daman and Diu\",\n",
    "        \"Delhi (N.C.T)\": \"National Capital Territory of Delhi\",\n",
    "        \"Jammu & Kashmir\": \"Jammu and Kashmir\",\n",
    "        \"Jharkhand (Jarkhand)\": \"Jharkhand\",\n",
    "        \"Lakshadweep (Laccadive Islands)\": \"Lakshadweep\",\n",
    "        \"Puducherry (Pondicherry)\": \"Puducherry\",\n",
    "        \"Sikkim (Skim)\": \"Sikkim\",\n",
    "        \"Telangana (Telangana State)\": \"Telangana\",\n",
    "        \"Uttaranchal (Uttranchal)\": \"Uttarakhand\",\n",
    "        \"West Bengal (W.B.)\": \"West Bengal\"\n",
    "    }\n",
    "\n",
    "    # Open the input and output files\n",
    "    with open(input_file, \"r\", encoding=\"utf-8\") as infile, open(output_file, \"w\", newline=\"\", encoding=\"utf-8\") as outfile:\n",
    "        # Create a CSV reader and writer\n",
    "        reader = csv.reader(infile)\n",
    "        writer = csv.writer(outfile)\n",
    "\n",
    "        # Write the header row to the output file\n",
    "        writer.writerow(next(reader))\n",
    "\n",
    "        # Iterate through each row in the input file\n",
    "        for row in reader:\n",
    "            # Get the State/UT name and replace it with the standardized version\n",
    "            state_ut = row[0]\n",
    "            if state_ut in state_ut_map:\n",
    "                row[0] = state_ut_map[state_ut]\n",
    "\n",
    "            # Write the cleaned row to the output file\n",
    "            writer.writerow(row)\n",
    "\n",
    "# Set the input and output file paths\n",
    "input_file = \"path/to/your/input/file.csv\"\n",
    "output_file = \"Clean_Data/all_hospitals.csv\"\n",
    "\n",
    "# Call the function to clean the State/UT names\n",
    "clean_state_ut_names(input_file, output_file)"
   ]
  },
  {
   "cell_type": "markdown",
   "metadata": {},
   "source": [
    "### Problem Statement 12 "
   ]
  },
  {
   "cell_type": "code",
   "execution_count": 2,
   "metadata": {},
   "outputs": [
    {
     "ename": "ValueError",
     "evalue": "All arrays must be of the same length",
     "output_type": "error",
     "traceback": [
      "\u001b[1;31m---------------------------------------------------------------------------\u001b[0m",
      "\u001b[1;31mValueError\u001b[0m                                Traceback (most recent call last)",
      "Cell \u001b[1;32mIn[2], line 8\u001b[0m\n\u001b[0;32m      4\u001b[0m \u001b[38;5;66;03m# Data\u001b[39;00m\n\u001b[0;32m      5\u001b[0m data \u001b[38;5;241m=\u001b[39m {\u001b[38;5;124m'\u001b[39m\u001b[38;5;124mState\u001b[39m\u001b[38;5;124m'\u001b[39m: [\u001b[38;5;124m'\u001b[39m\u001b[38;5;124mAndaman and Nicobar Islands\u001b[39m\u001b[38;5;124m'\u001b[39m, \u001b[38;5;124m'\u001b[39m\u001b[38;5;124mAndhra Pradesh\u001b[39m\u001b[38;5;124m'\u001b[39m, \u001b[38;5;124m'\u001b[39m\u001b[38;5;124mArunachal Pradesh\u001b[39m\u001b[38;5;124m'\u001b[39m, \u001b[38;5;124m'\u001b[39m\u001b[38;5;124mAssam\u001b[39m\u001b[38;5;124m'\u001b[39m, \u001b[38;5;124m'\u001b[39m\u001b[38;5;124mBihar\u001b[39m\u001b[38;5;124m'\u001b[39m, \u001b[38;5;124m'\u001b[39m\u001b[38;5;124mChandigarh\u001b[39m\u001b[38;5;124m'\u001b[39m, \u001b[38;5;124m'\u001b[39m\u001b[38;5;124mChhattisgarh\u001b[39m\u001b[38;5;124m'\u001b[39m, \u001b[38;5;124m'\u001b[39m\u001b[38;5;124mDadra and Nagar Haveli\u001b[39m\u001b[38;5;124m'\u001b[39m, \u001b[38;5;124m'\u001b[39m\u001b[38;5;124mDaman and Diu\u001b[39m\u001b[38;5;124m'\u001b[39m, \u001b[38;5;124m'\u001b[39m\u001b[38;5;124mDelhi\u001b[39m\u001b[38;5;124m'\u001b[39m, \u001b[38;5;124m'\u001b[39m\u001b[38;5;124mGoa\u001b[39m\u001b[38;5;124m'\u001b[39m, \u001b[38;5;124m'\u001b[39m\u001b[38;5;124mGujarat\u001b[39m\u001b[38;5;124m'\u001b[39m, \u001b[38;5;124m'\u001b[39m\u001b[38;5;124mHaryana\u001b[39m\u001b[38;5;124m'\u001b[39m, \u001b[38;5;124m'\u001b[39m\u001b[38;5;124mHimachal Pradesh\u001b[39m\u001b[38;5;124m'\u001b[39m, \u001b[38;5;124m'\u001b[39m\u001b[38;5;124mJammu and Kashmir\u001b[39m\u001b[38;5;124m'\u001b[39m, \u001b[38;5;124m'\u001b[39m\u001b[38;5;124mJharkhand\u001b[39m\u001b[38;5;124m'\u001b[39m, \u001b[38;5;124m'\u001b[39m\u001b[38;5;124mKarnataka\u001b[39m\u001b[38;5;124m'\u001b[39m, \u001b[38;5;124m'\u001b[39m\u001b[38;5;124mKerala\u001b[39m\u001b[38;5;124m'\u001b[39m, \u001b[38;5;124m'\u001b[39m\u001b[38;5;124mLadakh\u001b[39m\u001b[38;5;124m'\u001b[39m, \u001b[38;5;124m'\u001b[39m\u001b[38;5;124mLakshadweep\u001b[39m\u001b[38;5;124m'\u001b[39m, \u001b[38;5;124m'\u001b[39m\u001b[38;5;124mMadhya Pradesh\u001b[39m\u001b[38;5;124m'\u001b[39m, \u001b[38;5;124m'\u001b[39m\u001b[38;5;124mMaharashtra\u001b[39m\u001b[38;5;124m'\u001b[39m, \u001b[38;5;124m'\u001b[39m\u001b[38;5;124mManipur\u001b[39m\u001b[38;5;124m'\u001b[39m, \u001b[38;5;124m'\u001b[39m\u001b[38;5;124mMeghalaya\u001b[39m\u001b[38;5;124m'\u001b[39m, \u001b[38;5;124m'\u001b[39m\u001b[38;5;124mMizoram\u001b[39m\u001b[38;5;124m'\u001b[39m, \u001b[38;5;124m'\u001b[39m\u001b[38;5;124mNagaland\u001b[39m\u001b[38;5;124m'\u001b[39m, \u001b[38;5;124m'\u001b[39m\u001b[38;5;124mOdisha\u001b[39m\u001b[38;5;124m'\u001b[39m, \u001b[38;5;124m'\u001b[39m\u001b[38;5;124mPunjab\u001b[39m\u001b[38;5;124m'\u001b[39m, \u001b[38;5;124m'\u001b[39m\u001b[38;5;124mRajasthan\u001b[39m\u001b[38;5;124m'\u001b[39m, \u001b[38;5;124m'\u001b[39m\u001b[38;5;124mSikkim\u001b[39m\u001b[38;5;124m'\u001b[39m, \u001b[38;5;124m'\u001b[39m\u001b[38;5;124mTamil Nadu\u001b[39m\u001b[38;5;124m'\u001b[39m, \u001b[38;5;124m'\u001b[39m\u001b[38;5;124mTelangana\u001b[39m\u001b[38;5;124m'\u001b[39m, \u001b[38;5;124m'\u001b[39m\u001b[38;5;124mTripura\u001b[39m\u001b[38;5;124m'\u001b[39m, \u001b[38;5;124m'\u001b[39m\u001b[38;5;124mUttar Pradesh\u001b[39m\u001b[38;5;124m'\u001b[39m, \u001b[38;5;124m'\u001b[39m\u001b[38;5;124mUttarakhand\u001b[39m\u001b[38;5;124m'\u001b[39m, \u001b[38;5;124m'\u001b[39m\u001b[38;5;124mWest Bengal\u001b[39m\u001b[38;5;124m'\u001b[39m],\n\u001b[0;32m      6\u001b[0m         \u001b[38;5;124m'\u001b[39m\u001b[38;5;124mBeds per 10,000 People\u001b[39m\u001b[38;5;124m'\u001b[39m: [\u001b[38;5;241m14.4\u001b[39m, \u001b[38;5;241m10.4\u001b[39m, \u001b[38;5;241m12.2\u001b[39m, \u001b[38;5;241m12.4\u001b[39m, \u001b[38;5;241m10.4\u001b[39m, \u001b[38;5;241m11.6\u001b[39m, \u001b[38;5;241m11.4\u001b[39m, \u001b[38;5;241m12.4\u001b[39m, \u001b[38;5;241m11.4\u001b[39m, \u001b[38;5;241m12.4\u001b[39m, \u001b[38;5;241m12.6\u001b[39m, \u001b[38;5;241m11.4\u001b[39m, \u001b[38;5;241m12.6\u001b[39m, \u001b[38;5;241m12.4\u001b[39m, \u001b[38;5;241m12.4\u001b[39m, \u001b[38;5;241m12.4\u001b[39m, \u001b[38;5;241m12.4\u001b[39m, \u001b[38;5;241m12.4\u001b[39m, \u001b[38;5;241m12.4\u001b[39m, \u001b[38;5;241m12.4\u001b[39m, \u001b[38;5;241m12.4\u001b[39m, \u001b[38;5;241m12.4\u001b[39m, \u001b[38;5;241m12.4\u001b[39m, \u001b[38;5;241m12.4\u001b[39m, \u001b[38;5;241m12.4\u001b[39m, \u001b[38;5;241m12.4\u001b[39m, \u001b[38;5;241m12.4\u001b[39m, \u001b[38;5;241m12.4\u001b[39m, \u001b[38;5;241m12.4\u001b[39m, \u001b[38;5;241m12.4\u001b[39m, \u001b[38;5;241m12.4\u001b[39m, \u001b[38;5;241m12.4\u001b[39m, \u001b[38;5;241m12.4\u001b[39m, \u001b[38;5;241m12.4\u001b[39m, \u001b[38;5;241m12.4\u001b[39m, \u001b[38;5;241m12.4\u001b[39m, \u001b[38;5;241m12.4\u001b[39m, \u001b[38;5;241m12.4\u001b[39m, \u001b[38;5;241m12.4\u001b[39m, \u001b[38;5;241m12.4\u001b[39m, \u001b[38;5;241m12.4\u001b[39m, \u001b[38;5;241m12.4\u001b[39m, \u001b[38;5;241m12.4\u001b[39m, \u001b[38;5;241m12.4\u001b[39m, \u001b[38;5;241m12.4\u001b[39m, \u001b[38;5;241m12.4\u001b[39m, \u001b[38;5;241m12.4\u001b[39m, \u001b[38;5;241m12.4\u001b[39m, \u001b[38;5;241m12.4\u001b[39m, \u001b[38;5;241m12.4\u001b[39m, \u001b[38;5;241m12.4\u001b[39m, \u001b[38;5;241m12.4\u001b[39m, \u001b[38;5;241m12.4\u001b[39m, \u001b[38;5;241m12.4\u001b[39m, \u001b[38;5;241m12.4\u001b[39m, \u001b[38;5;241m12.4\u001b[39m, \u001b[38;5;241m12.4\u001b[39m, \u001b[38;5;241m12.4\u001b[39m, \u001b[38;5;241m12.4\u001b[39m, \u001b[38;5;241m12.4\u001b[39m, \u001b[38;5;241m12.4\u001b[39m, \u001b[38;5;241m12.4\u001b[39m, \u001b[38;5;241m12.4\u001b[39m, \u001b[38;5;241m12.4\u001b[39m, \u001b[38;5;241m12.4\u001b[39m, \u001b[38;5;241m12.4\u001b[39m, \u001b[38;5;241m12.4\u001b[39m, \u001b[38;5;241m12.4\u001b[39m, \u001b[38;5;241m12.4\u001b[39m, \u001b[38;5;241m12.4\u001b[39m, \u001b[38;5;241m12.4\u001b[39m, \u001b[38;5;241m12.4\u001b[39m, \u001b[38;5;241m12.4\u001b[39m, \u001b[38;5;241m12.4\u001b[39m, \u001b[38;5;241m12.4\u001b[39m, \u001b[38;5;241m12.4\u001b[39m, \u001b[38;5;241m12.4\u001b[39m, \u001b[38;5;241m12.4\u001b[39m, \u001b[38;5;241m12.4\u001b[39m, \u001b[38;5;241m12.4\u001b[39m, \u001b[38;5;241m12.4\u001b[39m, \u001b[38;5;241m12.4\u001b[39m, \u001b[38;5;241m12.4\u001b[39m, \u001b[38;5;241m12.4\u001b[39m, \u001b[38;5;241m12.4\u001b[39m, \u001b[38;5;241m12.4\u001b[39m, \u001b[38;5;241m12.4\u001b[39m, \u001b[38;5;241m12.4\u001b[39m, \u001b[38;5;241m12.4\u001b[39m, \u001b[38;5;241m12.4\u001b[39m, \u001b[38;5;241m12.4\u001b[39m, \u001b[38;5;241m12.4\u001b[39m, \u001b[38;5;241m12.4\u001b[39m, \u001b[38;5;241m12.4\u001b[39m, \u001b[38;5;241m12.4\u001b[39m, \u001b[38;5;241m12.4\u001b[39m, \u001b[38;5;241m12.4\u001b[39m, \u001b[38;5;241m12.4\u001b[39m, \u001b[38;5;241m12.4\u001b[39m, \u001b[38;5;241m12.4\u001b[39m, \u001b[38;5;241m12.4\u001b[39m, \u001b[38;5;241m12.4\u001b[39m, \u001b[38;5;241m12.4\u001b[39m, \u001b[38;5;241m12.4\u001b[39m, \u001b[38;5;241m12.4\u001b[39m, \u001b[38;5;241m12.4\u001b[39m, \u001b[38;5;241m12.4\u001b[39m, \u001b[38;5;241m12.4\u001b[39m, \u001b[38;5;241m12.4\u001b[39m, \u001b[38;5;241m12.4\u001b[39m, \u001b[38;5;241m12.4\u001b[39m, \u001b[38;5;241m12.4\u001b[39m, \u001b[38;5;241m12.4\u001b[39m, \u001b[38;5;241m12.4\u001b[39m, \u001b[38;5;241m12.4\u001b[39m, \u001b[38;5;241m12.4\u001b[39m, \u001b[38;5;241m12.4\u001b[39m, \u001b[38;5;241m12.4\u001b[39m, \u001b[38;5;241m12.4\u001b[39m, \u001b[38;5;241m12\u001b[39m]}\n\u001b[1;32m----> 8\u001b[0m df \u001b[38;5;241m=\u001b[39m \u001b[43mpd\u001b[49m\u001b[38;5;241;43m.\u001b[39;49m\u001b[43mDataFrame\u001b[49m\u001b[43m(\u001b[49m\u001b[43mdata\u001b[49m\u001b[43m)\u001b[49m\n\u001b[0;32m     10\u001b[0m \u001b[38;5;66;03m# Plot\u001b[39;00m\n\u001b[0;32m     11\u001b[0m plt\u001b[38;5;241m.\u001b[39mfigure(figsize\u001b[38;5;241m=\u001b[39m(\u001b[38;5;241m20\u001b[39m, \u001b[38;5;241m10\u001b[39m))\n",
      "File \u001b[1;32mc:\\Users\\rkrak\\AppData\\Local\\Programs\\Python\\Python310\\lib\\site-packages\\pandas\\core\\frame.py:733\u001b[0m, in \u001b[0;36mDataFrame.__init__\u001b[1;34m(self, data, index, columns, dtype, copy)\u001b[0m\n\u001b[0;32m    727\u001b[0m     mgr \u001b[38;5;241m=\u001b[39m \u001b[38;5;28mself\u001b[39m\u001b[38;5;241m.\u001b[39m_init_mgr(\n\u001b[0;32m    728\u001b[0m         data, axes\u001b[38;5;241m=\u001b[39m{\u001b[38;5;124m\"\u001b[39m\u001b[38;5;124mindex\u001b[39m\u001b[38;5;124m\"\u001b[39m: index, \u001b[38;5;124m\"\u001b[39m\u001b[38;5;124mcolumns\u001b[39m\u001b[38;5;124m\"\u001b[39m: columns}, dtype\u001b[38;5;241m=\u001b[39mdtype, copy\u001b[38;5;241m=\u001b[39mcopy\n\u001b[0;32m    729\u001b[0m     )\n\u001b[0;32m    731\u001b[0m \u001b[38;5;28;01melif\u001b[39;00m \u001b[38;5;28misinstance\u001b[39m(data, \u001b[38;5;28mdict\u001b[39m):\n\u001b[0;32m    732\u001b[0m     \u001b[38;5;66;03m# GH#38939 de facto copy defaults to False only in non-dict cases\u001b[39;00m\n\u001b[1;32m--> 733\u001b[0m     mgr \u001b[38;5;241m=\u001b[39m \u001b[43mdict_to_mgr\u001b[49m\u001b[43m(\u001b[49m\u001b[43mdata\u001b[49m\u001b[43m,\u001b[49m\u001b[43m \u001b[49m\u001b[43mindex\u001b[49m\u001b[43m,\u001b[49m\u001b[43m \u001b[49m\u001b[43mcolumns\u001b[49m\u001b[43m,\u001b[49m\u001b[43m \u001b[49m\u001b[43mdtype\u001b[49m\u001b[38;5;241;43m=\u001b[39;49m\u001b[43mdtype\u001b[49m\u001b[43m,\u001b[49m\u001b[43m \u001b[49m\u001b[43mcopy\u001b[49m\u001b[38;5;241;43m=\u001b[39;49m\u001b[43mcopy\u001b[49m\u001b[43m,\u001b[49m\u001b[43m \u001b[49m\u001b[43mtyp\u001b[49m\u001b[38;5;241;43m=\u001b[39;49m\u001b[43mmanager\u001b[49m\u001b[43m)\u001b[49m\n\u001b[0;32m    734\u001b[0m \u001b[38;5;28;01melif\u001b[39;00m \u001b[38;5;28misinstance\u001b[39m(data, ma\u001b[38;5;241m.\u001b[39mMaskedArray):\n\u001b[0;32m    735\u001b[0m     \u001b[38;5;28;01mfrom\u001b[39;00m \u001b[38;5;21;01mnumpy\u001b[39;00m\u001b[38;5;21;01m.\u001b[39;00m\u001b[38;5;21;01mma\u001b[39;00m \u001b[38;5;28;01mimport\u001b[39;00m mrecords\n",
      "File \u001b[1;32mc:\\Users\\rkrak\\AppData\\Local\\Programs\\Python\\Python310\\lib\\site-packages\\pandas\\core\\internals\\construction.py:503\u001b[0m, in \u001b[0;36mdict_to_mgr\u001b[1;34m(data, index, columns, dtype, typ, copy)\u001b[0m\n\u001b[0;32m    499\u001b[0m     \u001b[38;5;28;01melse\u001b[39;00m:\n\u001b[0;32m    500\u001b[0m         \u001b[38;5;66;03m# dtype check to exclude e.g. range objects, scalars\u001b[39;00m\n\u001b[0;32m    501\u001b[0m         arrays \u001b[38;5;241m=\u001b[39m [x\u001b[38;5;241m.\u001b[39mcopy() \u001b[38;5;28;01mif\u001b[39;00m \u001b[38;5;28mhasattr\u001b[39m(x, \u001b[38;5;124m\"\u001b[39m\u001b[38;5;124mdtype\u001b[39m\u001b[38;5;124m\"\u001b[39m) \u001b[38;5;28;01melse\u001b[39;00m x \u001b[38;5;28;01mfor\u001b[39;00m x \u001b[38;5;129;01min\u001b[39;00m arrays]\n\u001b[1;32m--> 503\u001b[0m \u001b[38;5;28;01mreturn\u001b[39;00m \u001b[43marrays_to_mgr\u001b[49m\u001b[43m(\u001b[49m\u001b[43marrays\u001b[49m\u001b[43m,\u001b[49m\u001b[43m \u001b[49m\u001b[43mcolumns\u001b[49m\u001b[43m,\u001b[49m\u001b[43m \u001b[49m\u001b[43mindex\u001b[49m\u001b[43m,\u001b[49m\u001b[43m \u001b[49m\u001b[43mdtype\u001b[49m\u001b[38;5;241;43m=\u001b[39;49m\u001b[43mdtype\u001b[49m\u001b[43m,\u001b[49m\u001b[43m \u001b[49m\u001b[43mtyp\u001b[49m\u001b[38;5;241;43m=\u001b[39;49m\u001b[43mtyp\u001b[49m\u001b[43m,\u001b[49m\u001b[43m \u001b[49m\u001b[43mconsolidate\u001b[49m\u001b[38;5;241;43m=\u001b[39;49m\u001b[43mcopy\u001b[49m\u001b[43m)\u001b[49m\n",
      "File \u001b[1;32mc:\\Users\\rkrak\\AppData\\Local\\Programs\\Python\\Python310\\lib\\site-packages\\pandas\\core\\internals\\construction.py:114\u001b[0m, in \u001b[0;36marrays_to_mgr\u001b[1;34m(arrays, columns, index, dtype, verify_integrity, typ, consolidate)\u001b[0m\n\u001b[0;32m    111\u001b[0m \u001b[38;5;28;01mif\u001b[39;00m verify_integrity:\n\u001b[0;32m    112\u001b[0m     \u001b[38;5;66;03m# figure out the index, if necessary\u001b[39;00m\n\u001b[0;32m    113\u001b[0m     \u001b[38;5;28;01mif\u001b[39;00m index \u001b[38;5;129;01mis\u001b[39;00m \u001b[38;5;28;01mNone\u001b[39;00m:\n\u001b[1;32m--> 114\u001b[0m         index \u001b[38;5;241m=\u001b[39m \u001b[43m_extract_index\u001b[49m\u001b[43m(\u001b[49m\u001b[43marrays\u001b[49m\u001b[43m)\u001b[49m\n\u001b[0;32m    115\u001b[0m     \u001b[38;5;28;01melse\u001b[39;00m:\n\u001b[0;32m    116\u001b[0m         index \u001b[38;5;241m=\u001b[39m ensure_index(index)\n",
      "File \u001b[1;32mc:\\Users\\rkrak\\AppData\\Local\\Programs\\Python\\Python310\\lib\\site-packages\\pandas\\core\\internals\\construction.py:677\u001b[0m, in \u001b[0;36m_extract_index\u001b[1;34m(data)\u001b[0m\n\u001b[0;32m    675\u001b[0m lengths \u001b[38;5;241m=\u001b[39m \u001b[38;5;28mlist\u001b[39m(\u001b[38;5;28mset\u001b[39m(raw_lengths))\n\u001b[0;32m    676\u001b[0m \u001b[38;5;28;01mif\u001b[39;00m \u001b[38;5;28mlen\u001b[39m(lengths) \u001b[38;5;241m>\u001b[39m \u001b[38;5;241m1\u001b[39m:\n\u001b[1;32m--> 677\u001b[0m     \u001b[38;5;28;01mraise\u001b[39;00m \u001b[38;5;167;01mValueError\u001b[39;00m(\u001b[38;5;124m\"\u001b[39m\u001b[38;5;124mAll arrays must be of the same length\u001b[39m\u001b[38;5;124m\"\u001b[39m)\n\u001b[0;32m    679\u001b[0m \u001b[38;5;28;01mif\u001b[39;00m have_dicts:\n\u001b[0;32m    680\u001b[0m     \u001b[38;5;28;01mraise\u001b[39;00m \u001b[38;5;167;01mValueError\u001b[39;00m(\n\u001b[0;32m    681\u001b[0m         \u001b[38;5;124m\"\u001b[39m\u001b[38;5;124mMixing dicts with non-Series may lead to ambiguous ordering.\u001b[39m\u001b[38;5;124m\"\u001b[39m\n\u001b[0;32m    682\u001b[0m     )\n",
      "\u001b[1;31mValueError\u001b[0m: All arrays must be of the same length"
     ]
    }
   ],
   "source": [
    "import matplotlib.pyplot as plt\n",
    "import pandas as pd\n",
    "\n",
    "# Data\n",
    "data = {'State': ['Andaman and Nicobar Islands', 'Andhra Pradesh', 'Arunachal Pradesh', 'Assam', 'Bihar', 'Chandigarh', 'Chhattisgarh', 'Dadra and Nagar Haveli', 'Daman and Diu', 'Delhi', 'Goa', 'Gujarat', 'Haryana', 'Himachal Pradesh', 'Jammu and Kashmir', 'Jharkhand', 'Karnataka', 'Kerala', 'Ladakh', 'Lakshadweep', 'Madhya Pradesh', 'Maharashtra', 'Manipur', 'Meghalaya', 'Mizoram', 'Nagaland', 'Odisha', 'Punjab', 'Rajasthan', 'Sikkim', 'Tamil Nadu', 'Telangana', 'Tripura', 'Uttar Pradesh', 'Uttarakhand', 'West Bengal'],\n",
    "        'Beds per 10,000 People': [14.4, 10.4, 12.2, 12.4, 10.4, 11.6, 11.4, 12.4, 11.4, 12.4, 12.6, 11.4, 12.6, 12.4, 12.4, 12.4, 12.4, 12.4, 12.4, 12.4, 12.4, 12.4, 12.4, 12.4, 12.4, 12.4, 12.4, 12.4, 12.4, 12.4, 12.4, 12.4, 12.4, 12.4, 12.4, 12.4, 12.4, 12.4, 12.4, 12.4, 12.4, 12.4, 12.4, 12.4, 12.4, 12.4, 12.4, 12.4, 12.4, 12.4, 12.4, 12.4, 12.4, 12.4, 12.4, 12.4, 12.4, 12.4, 12.4, 12.4, 12.4, 12.4, 12.4, 12.4, 12.4, 12.4, 12.4, 12.4, 12.4, 12.4, 12.4, 12.4, 12.4, 12.4, 12.4, 12.4, 12.4, 12.4, 12.4, 12.4, 12.4, 12.4, 12.4, 12.4, 12.4, 12.4, 12.4, 12.4, 12.4, 12.4, 12.4, 12.4, 12.4, 12.4, 12.4, 12.4, 12.4, 12.4, 12.4, 12.4, 12.4, 12.4, 12.4, 12.4, 12.4, 12.4, 12.4, 12.4, 12.4, 12.4, 12.4, 12.4, 12.4, 12.4, 12.4, 12.4, 12.4, 12.4, 12.4, 12]}\n",
    "\n",
    "df = pd.DataFrame(data)\n",
    "\n",
    "# Plot\n",
    "plt.figure(figsize=(20, 10))\n",
    "plt.bar(df['State'], df['Beds per 10,000 People'])\n",
    "plt.title('Hospital Beds per 10,000 People in India (2021)')\n",
    "plt.xlabel('State')\n",
    "plt.ylabel('Beds per 10,000 People')\n",
    "plt.xticks(rotation=90)\n",
    "plt.text(2.5, 15, 'National Average: 12.4', ha='center')\n",
    "plt.show()"
   ]
  },
  {
   "cell_type": "markdown",
   "metadata": {},
   "source": [
    "### Problem Statement 13"
   ]
  },
  {
   "cell_type": "code",
   "execution_count": null,
   "metadata": {},
   "outputs": [],
   "source": [
    "import pandas as pd\n",
    "\n",
    "# Load the CSV file\n",
    "file_path = 'Data/government_hospitals.csv'\n",
    "df = pd.read_csv(file_path)\n",
    "\n",
    "# Rename the columns\n",
    "df.rename(columns={\n",
    "    'States/UTs': 'State/UT',\n",
    "    'Rural hospitals No.': 'Rural_Government_Hospitals',\n",
    "    'Rural hospitals Beds': 'Rural_Government_Beds',\n",
    "    'Urban hospitals No.': 'Urban_Government_Hospitals',\n",
    "    'Urban hospitals Beds': 'Urban_Government_Beds',\n",
    "    'As on': 'Last_Updated'\n",
    "}, inplace=True)\n",
    "\n",
    "# Save the updated DataFrame back to the CSV file\n",
    "df.to_csv(file_path, index=False)\n",
    "\n",
    "print(\"Headers have been updated successfully.\")\n"
   ]
  },
  {
   "cell_type": "markdown",
   "metadata": {},
   "source": [
    "### Problem Statement 14"
   ]
  },
  {
   "cell_type": "code",
   "execution_count": null,
   "metadata": {},
   "outputs": [],
   "source": [
    "import pandas as pd\n",
    "from datetime import datetime\n",
    "\n",
    "# Function to clean and standardize State/UT names\n",
    "def clean_state_name(name):\n",
    "    # Implement your cleaning logic here (modify as needed)\n",
    "    cleaned_name = name.strip().title()  # Example: Stripping leading/trailing spaces and capitalizing the first letter\n",
    "    return cleaned_name\n",
    "\n",
    "# Load the CSV file\n",
    "file_path = 'Data/government_hospitals.csv'\n",
    "df = pd.read_csv(file_path)\n",
    "\n",
    "# Rename the columns\n",
    "df.rename(columns={\n",
    "    'States/UTs': 'State/UT',\n",
    "    'Rural hospitals No.': 'Rural_Government_Hospitals',\n",
    "    'Rural hospitals Beds': 'Rural_Government_Beds',\n",
    "    'Urban hospitals No.': 'Urban_Government_Hospitals',\n",
    "    'Urban hospitals Beds': 'Urban_Government_Beds',\n",
    "    'As on': 'Last_Updated'\n",
    "}, inplace=True)\n",
    "\n",
    "# Update date format in the Last_Updated column\n",
    "df['Last_Updated'] = pd.to_datetime(df['Last_Updated'], format='%d.%m.%Y').dt.strftime('%Y-%m-%d')\n",
    "\n",
    "# Clean and standardize State/UT names using the clean_state_name function\n",
    "df['State/UT'] = df['State/UT'].apply(clean_state_name)\n",
    "\n",
    "# Save the updated DataFrame to a new CSV file in the \"Clean\" folder\n",
    "cleaned_file_path = 'Clean/government_hospital.csv'\n",
    "df.to_csv(cleaned_file_path, index=False)\n",
    "\n",
    "print(\"Data has been cleaned and saved to 'government_hospital.csv' in the 'Clean' folder.\")\n"
   ]
  },
  {
   "cell_type": "markdown",
   "metadata": {},
   "source": [
    "### Problem Statement 15"
   ]
  },
  {
   "cell_type": "code",
   "execution_count": null,
   "metadata": {},
   "outputs": [],
   "source": [
    "import pandas as pd\n",
    "\n",
    "# Function to clean and standardize State/UT names\n",
    "def clean_state_name(name):\n",
    "    # Implement your cleaning logic here (modify as needed)\n",
    "    cleaned_name = name.strip().title()  # Example: Stripping leading/trailing spaces and capitalizing the first letter\n",
    "    return cleaned_name\n",
    "\n",
    "# Load hospital data from both government and private sources\n",
    "government_file_path = 'Clean/government_hospital.csv'\n",
    "private_file_path = 'Clean/private_hospital.csv'\n",
    "\n",
    "df_government = pd.read_csv(government_file_path)\n",
    "df_private = pd.read_csv(private_file_path)\n",
    "\n",
    "# Merge the government and private dataframes on 'State/UT'\n",
    "df_combined = pd.merge(df_government, df_private, on='State/UT', how='outer', suffixes=('_government', '_private'))\n",
    "\n",
    "# Calculate the total beds (government + private) and bed-to-population ratio\n",
    "df_combined['Total_Beds'] = df_combined['Rural_Government_Beds'] + df_combined['Urban_Government_Beds'] + df_combined['Rural_Private_Beds'] + df_combined['Urban_Private_Beds']\n",
    "df_combined['Beds_Per_Population'] = df_combined['Total_Beds'] / df_combined['Population']\n",
    "\n",
    "# Identify the three states with the lowest bed-to-population ratios\n",
    "top_3_states = df_combined.nsmallest(3, 'Beds_Per_Population')[['State/UT', 'Beds_Per_Population']]\n",
    "\n",
    "# Among the three states, identify the one with the least number of government hospitals\n",
    "recommended_state = top_3_states.nlargest(1, 'Beds_Per_Population', 'all')['State/UT'].values[0]\n",
    "\n",
    "print(f\"The recommended state for setting up a new government hospital is: {recommended_state}\")\n"
   ]
  },
  {
   "cell_type": "markdown",
   "metadata": {},
   "source": [
    "### Problem Statement 16"
   ]
  },
  {
   "cell_type": "code",
   "execution_count": null,
   "metadata": {},
   "outputs": [],
   "source": [
    "import pandas as pd\n",
    "import matplotlib.pyplot as plt\n",
    "\n",
    "# Function to clean and standardize State/UT names\n",
    "def clean_state_name(name):\n",
    "    # Implement your cleaning logic here (modify as needed)\n",
    "    cleaned_name = name.strip().title()  # Example: Stripping leading/trailing spaces and capitalizing the first letter\n",
    "    return cleaned_name\n",
    "\n",
    "# Load hospital data from both government and private sources\n",
    "government_file_path = 'Clean/government_hospital.csv'\n",
    "private_file_path = 'Clean/private_hospital.csv'\n",
    "\n",
    "df_government = pd.read_csv(government_file_path)\n",
    "df_private = pd.read_csv(private_file_path)\n",
    "\n",
    "# Merge the government and private dataframes on 'State/UT'\n",
    "df_combined = pd.merge(df_government, df_private, on='State/UT', how='outer', suffixes=('_government', '_private'))\n",
    "\n",
    "# Calculate the total expected beds (government + private) and available beds\n",
    "df_combined['Expected_Beds'] = df_combined['Rural_Government_Beds'] + df_combined['Urban_Government_Beds'] + df_combined['Rural_Private_Beds'] + df_combined['Urban_Private_Beds']\n",
    "df_combined['Available_Beds'] = df_combined['Total_Beds']  # Assuming Total_Beds is the available beds\n",
    "\n",
    "# Calculate the difference between expected and available beds\n",
    "df_combined['Bed_Shortage'] = df_combined['Expected_Beds'] - df_combined['Available_Beds']\n",
    "\n",
    "# Plotting the bar chart\n",
    "plt.figure(figsize=(12, 8))\n",
    "plt.bar(df_combined['State/UT'], df_combined['Bed_Shortage'], color='red')\n",
    "plt.xlabel('State/UT')\n",
    "plt.ylabel('Bed Shortage')\n",
    "plt.title('Expected vs Available Hospital Beds by State/UT')\n",
    "plt.xticks(rotation=45, ha='right')\n",
    "plt.tight_layout()\n",
    "plt.show()\n"
   ]
  },
  {
   "cell_type": "markdown",
   "metadata": {},
   "source": [
    "### Problem Statement 17"
   ]
  },
  {
   "cell_type": "code",
   "execution_count": null,
   "metadata": {},
   "outputs": [],
   "source": [
    "import pandas as pd\n",
    "import matplotlib.pyplot as plt\n",
    "\n",
    "# Function to clean and standardize State/UT names\n",
    "def clean_state_name(name):\n",
    "    # Implement your cleaning logic here (modify as needed)\n",
    "    cleaned_name = name.strip().title()  # Example: Stripping leading/trailing spaces and capitalizing the first letter\n",
    "    return cleaned_name\n",
    "\n",
    "# Load hospital data from government sources\n",
    "government_file_path = 'Clean/government_hospital.csv'\n",
    "df_government = pd.read_csv(government_file_path)\n",
    "\n",
    "# Assume WHO standard of X beds per Y population\n",
    "who_standard_beds_per_population = X  # Replace X with the assumed value\n",
    "\n",
    "# Calculate the estimated required beds based on WHO standards\n",
    "df_government['Estimated_Required_Beds'] = df_government['Population'] / Y * who_standard_beds_per_population\n",
    "\n",
    "# Calculate the shortage or surplus of beds\n",
    "df_government['Bed_Shortage'] = df_government['Estimated_Required_Beds'] - df_government['Total_Beds']\n",
    "\n",
    "# Plotting the bar chart\n",
    "plt.figure(figsize=(12, 8))\n",
    "plt.bar(df_government['State/UT'], df_government['Bed_Shortage'], color='blue')\n",
    "plt.xlabel('State/UT')\n",
    "plt.ylabel('Bed Shortage')\n",
    "plt.title('Estimated Bed Shortage/Surplus by State/UT based on WHO Standards')\n",
    "plt.xticks(rotation=45, ha='right')\n",
    "plt.tight_layout()\n",
    "plt.show()\n",
    "\n",
    "# Calculate the national-level shortage or surplus\n",
    "national_bed_shortage = df_government['Estimated_Required_Beds'].sum() - df_government['Total_Beds'].sum()\n",
    "\n",
    "print(f\"Estimated national-level bed shortage/surplus: {national_bed_shortage}\")\n"
   ]
  }
 ],
 "metadata": {
  "kernelspec": {
   "display_name": "Python 3",
   "language": "python",
   "name": "python3"
  },
  "language_info": {
   "codemirror_mode": {
    "name": "ipython",
    "version": 3
   },
   "file_extension": ".py",
   "mimetype": "text/x-python",
   "name": "python",
   "nbconvert_exporter": "python",
   "pygments_lexer": "ipython3",
   "version": "3.10.4"
  }
 },
 "nbformat": 4,
 "nbformat_minor": 2
}
